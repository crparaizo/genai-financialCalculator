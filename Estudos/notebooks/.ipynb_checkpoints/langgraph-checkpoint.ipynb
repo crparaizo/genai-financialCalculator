{
 "cells": [
  {
   "cell_type": "code",
   "execution_count": null,
   "id": "aa187930",
   "metadata": {
    "vscode": {
     "languageId": "plaintext"
    }
   },
   "outputs": [],
   "source": [
    "#import libs\n",
    "\n",
    "from langchain_google_genai import ChatGoogleGenerativeAI\n",
    "from langchain.prompts import PromptTemplate\n",
    "import os\n",
    "import yaml"
   ]
  },
  {
   "cell_type": "code",
   "execution_count": null,
   "id": "1267069f",
   "metadata": {
    "vscode": {
     "languageId": "plaintext"
    }
   },
   "outputs": [],
   "source": [
    "#get api_key\n",
    "\n",
    "with open('../config.yaml', 'r') as config_file:\n",
    "    config = yaml.safe_load(config_file)\n",
    "os.environ['GOOGLE_API_KEY'] = config['GOOGLE_API_KEY']\n",
    "\n",
    "googleai = ChatGoogleGenerativeAI(model='gemini-pro') "
   ]
  },
  {
   "cell_type": "code",
   "execution_count": null,
   "id": "e656fff6",
   "metadata": {
    "vscode": {
     "languageId": "plaintext"
    }
   },
   "outputs": [],
   "source": [
    "#https://blog.langchain.com/langgraph/\n",
    "\n",
    "#criação da classe do estado do objeto que será atualizado ao longo da execução"
   ]
  },
  {
   "cell_type": "code",
   "execution_count": null,
   "id": "f5b3d9fb",
   "metadata": {
    "vscode": {
     "languageId": "plaintext"
    }
   },
   "outputs": [],
   "source": [
    "#functions\n",
    "\n",
    "def receiver_question ():\n",
    "    pass\n",
    "\n",
    "def make_operation ():\n",
    "    pass\n",
    "\n",
    "def get_text_from_llm ():\n",
    "    pass\n",
    "\n",
    "def sintetization ():\n",
    "    pass\n",
    "\n",
    "def awnser_question ():\n",
    "    pass"
   ]
  },
  {
   "cell_type": "code",
   "execution_count": null,
   "id": "3ed257ea",
   "metadata": {
    "vscode": {
     "languageId": "plaintext"
    }
   },
   "outputs": [],
   "source": [
    "#graphs\n",
    "\n",
    "graph = StateGraph(State)\n",
    "\n",
    "graph.add_node(\"receiver_question\", RunnableLambda(receiver_question))\n",
    "graph.add_node(\"make_operation\", RunnableLambda(make_operation))\n",
    "graph.add_node(\"get_text_from_llm\", RunnableLambda(get_text_from_llm))\n",
    "graph.add_node(\"sintetization\", RunnableLambda(sintetization))\n",
    "graph.add_node(\"awnser_question\", RunnableLambda(awnser_question))"
   ]
  },
  {
   "cell_type": "code",
   "execution_count": null,
   "id": "e72caf35",
   "metadata": {
    "vscode": {
     "languageId": "plaintext"
    }
   },
   "outputs": [],
   "source": [
    "#state trasictions and condictions"
   ]
  },
  {
   "cell_type": "code",
   "execution_count": null,
   "id": "3fe6fea3",
   "metadata": {
    "vscode": {
     "languageId": "plaintext"
    }
   },
   "outputs": [],
   "source": [
    "#run"
   ]
  }
 ],
 "metadata": {
  "language_info": {
   "name": "python"
  }
 },
 "nbformat": 4,
 "nbformat_minor": 5
}
