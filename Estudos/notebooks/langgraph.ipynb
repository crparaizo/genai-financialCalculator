{
 "cells": [
  {
   "cell_type": "code",
   "execution_count": 4,
   "id": "aa187930",
   "metadata": {
    "vscode": {
     "languageId": "plaintext"
    }
   },
   "outputs": [],
   "source": [
    "#import libs\n",
    "\n",
    "from langchain_google_genai import ChatGoogleGenerativeAI\n",
    "from langchain.prompts import PromptTemplate\n",
    "import os\n",
    "import yaml"
   ]
  },
  {
   "cell_type": "code",
   "execution_count": 13,
   "id": "1267069f",
   "metadata": {
    "vscode": {
     "languageId": "plaintext"
    }
   },
   "outputs": [],
   "source": [
    "#get api_key\n",
    "\n",
    "with open('./../../config.yaml', 'r') as config_file:\n",
    "    config = yaml.safe_load(config_file)\n",
    "os.environ['GOOGLE_API_KEY'] = config['GOOGLE_API_KEY']\n",
    "\n",
    "googleai = ChatGoogleGenerativeAI(model='gemini-2.5-pro') "
   ]
  },
  {
   "cell_type": "code",
   "execution_count": 14,
   "id": "e656fff6",
   "metadata": {
    "vscode": {
     "languageId": "plaintext"
    }
   },
   "outputs": [],
   "source": [
    "#https://blog.langchain.com/langgraph/\n",
    "\n",
    "#criação da classe do estado do objeto que será atualizado ao longo da execução"
   ]
  },
  {
   "cell_type": "code",
   "execution_count": 15,
   "id": "8ab62453-2f19-4d1a-9029-8d1c5cd14b48",
   "metadata": {},
   "outputs": [],
   "source": [
    "template = \"\"\"\n",
    "Você é um analista financeiro.\n",
    "Escreva um relatório financeiro detalhado para a empresa \"{empresa}\" para o período {periodo}.\n",
    "\n",
    "O relatório deve ser escrito em {idioma} e incluir as seguintes análises:\n",
    "{analises}\n",
    "\n",
    "Certifique-se de fornecer insights e conclusões para cada seção.\n",
    "\"\"\"\n",
    "prompt_template = PromptTemplate.from_template(template=template)"
   ]
  },
  {
   "cell_type": "code",
   "execution_count": 16,
   "id": "cfbe128d-9288-4cd3-99bd-4e25de817c6b",
   "metadata": {},
   "outputs": [],
   "source": [
    "empresa = 'ACME Corp'\n",
    "periodo = 'Q1 2024'\n",
    "idioma = 'Português'\n",
    "analises = [\n",
    "    \"Análise do Balanço Patrimonial\",\n",
    "    \"Análise do Fluxo de Caixa\",\n",
    "    \"Análise de Tendências\",\n",
    "    \"Análise de Receita e Lucro\",\n",
    "    \"Análise de Posição de Mercado\"\n",
    "]\n",
    "analises_text = \"\\n\".join([f\"- {analise}\" for analise in analises])"
   ]
  },
  {
   "cell_type": "code",
   "execution_count": 17,
   "id": "b7bd902e-bdf5-4766-806e-0d0c3bf2f61b",
   "metadata": {},
   "outputs": [],
   "source": [
    "prompt = prompt_template.format(\n",
    "    empresa=empresa,\n",
    "    periodo=periodo,\n",
    "    idioma=idioma,\n",
    "    analises=analises_text\n",
    ")"
   ]
  },
  {
   "cell_type": "code",
   "execution_count": null,
   "id": "5fbda2b3-82e1-40eb-ba2a-0932545a98f5",
   "metadata": {},
   "outputs": [],
   "source": [
    "response = googleai.invoke(prompt)\n",
    "print(\"Relatório Financeiro:\\n\", response.content)"
   ]
  },
  {
   "cell_type": "code",
   "execution_count": null,
   "id": "f5b3d9fb",
   "metadata": {
    "vscode": {
     "languageId": "plaintext"
    }
   },
   "outputs": [],
   "source": [
    "#functions\n",
    "\n",
    "def receiver_question ():\n",
    "    pass\n",
    "\n",
    "def make_operation ():\n",
    "    pass\n",
    "\n",
    "def get_text_from_llm ():\n",
    "    pass\n",
    "\n",
    "def sintetization ():\n",
    "    pass\n",
    "\n",
    "def awnser_question ():\n",
    "    pass"
   ]
  },
  {
   "cell_type": "code",
   "execution_count": null,
   "id": "3ed257ea",
   "metadata": {
    "vscode": {
     "languageId": "plaintext"
    }
   },
   "outputs": [],
   "source": [
    "#graphs\n",
    "\n",
    "graph = StateGraph(State)\n",
    "\n",
    "graph.add_node(\"receiver_question\", RunnableLambda(receiver_question))\n",
    "graph.add_node(\"make_operation\", RunnableLambda(make_operation))\n",
    "graph.add_node(\"get_text_from_llm\", RunnableLambda(get_text_from_llm))\n",
    "graph.add_node(\"sintetization\", RunnableLambda(sintetization))\n",
    "graph.add_node(\"awnser_question\", RunnableLambda(awnser_question))"
   ]
  },
  {
   "cell_type": "code",
   "execution_count": null,
   "id": "e72caf35",
   "metadata": {
    "vscode": {
     "languageId": "plaintext"
    }
   },
   "outputs": [],
   "source": [
    "#state trasictions and condictions"
   ]
  },
  {
   "cell_type": "code",
   "execution_count": null,
   "id": "3fe6fea3",
   "metadata": {
    "vscode": {
     "languageId": "plaintext"
    }
   },
   "outputs": [],
   "source": [
    "#run"
   ]
  }
 ],
 "metadata": {
  "kernelspec": {
   "display_name": "Python 3 (ipykernel)",
   "language": "python",
   "name": "python3"
  },
  "language_info": {
   "codemirror_mode": {
    "name": "ipython",
    "version": 3
   },
   "file_extension": ".py",
   "mimetype": "text/x-python",
   "name": "python",
   "nbconvert_exporter": "python",
   "pygments_lexer": "ipython3",
   "version": "3.12.4"
  }
 },
 "nbformat": 4,
 "nbformat_minor": 5
}
